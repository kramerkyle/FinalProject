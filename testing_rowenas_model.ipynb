{
 "cells": [
  {
   "cell_type": "code",
   "execution_count": 11,
   "id": "185f65ef",
   "metadata": {},
   "outputs": [],
   "source": [
    "import pandas as pd\n",
    "import numpy as np\n",
    "import re\n",
    "import hvplot.pandas\n",
    "from path import Path\n",
    "import plotly.express as px\n",
    "from sklearn.preprocessing import StandardScaler, MinMaxScaler\n",
    "from sklearn.decomposition import PCA\n",
    "from sklearn.cluster import KMeans\n",
    "from sklearn.cluster import AgglomerativeClustering\n",
    "import plotly.figure_factory as ff\n",
    "import pymysql"
   ]
  },
  {
   "cell_type": "code",
   "execution_count": 35,
   "id": "9155fd3c",
   "metadata": {},
   "outputs": [
    {
     "ename": "SyntaxError",
     "evalue": "unexpected EOF while parsing (Temp/ipykernel_20060/129168529.py, line 13)",
     "output_type": "error",
     "traceback": [
      "\u001b[1;36m  File \u001b[1;32m\"C:\\Users\\SAVANN~1\\AppData\\Local\\Temp/ipykernel_20060/129168529.py\"\u001b[1;36m, line \u001b[1;32m13\u001b[0m\n\u001b[1;33m    from life_expectancy''', dbcon)\u001b[0m\n\u001b[1;37m                                   \n^\u001b[0m\n\u001b[1;31mSyntaxError\u001b[0m\u001b[1;31m:\u001b[0m unexpected EOF while parsing\n"
     ]
    }
   ],
   "source": [
    "#Sample code to draw from SQL table\n",
    "dbcon = pymysql.connect(host=\"localhost\", user=\"postgres\", pwd=\"GvJ61887!\", db=\"FinalProject\")\n",
    "\n",
    "try:\n",
    "    SQL_Query = pd.read_sql_query(\n",
    "        '''select\n",
    "          state,\n",
    "          county,\n",
    "          census_tract_number, \n",
    "          life_expectancy, \n",
    "          life_expectancy_range,\n",
    "          life_expectancy_standard_error\n",
    "          from life_expectancy''', dbcon)"
   ]
  },
  {
   "cell_type": "code",
   "execution_count": null,
   "id": "ce10a24f",
   "metadata": {},
   "outputs": [],
   "source": []
  }
 ],
 "metadata": {
  "kernelspec": {
   "display_name": "mlenv",
   "language": "python",
   "name": "mlenv"
  },
  "language_info": {
   "codemirror_mode": {
    "name": "ipython",
    "version": 3
   },
   "file_extension": ".py",
   "mimetype": "text/x-python",
   "name": "python",
   "nbconvert_exporter": "python",
   "pygments_lexer": "ipython3",
   "version": "3.7.11"
  }
 },
 "nbformat": 4,
 "nbformat_minor": 5
}
